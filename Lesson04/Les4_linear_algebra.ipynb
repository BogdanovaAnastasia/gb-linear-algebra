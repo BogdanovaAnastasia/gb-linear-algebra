{
 "cells": [
  {
   "cell_type": "markdown",
   "metadata": {},
   "source": [
    "## Практическое задание к уроку \"Урок 4. Системы линейных уравнений. Часть 1\""
   ]
  },
  {
   "cell_type": "code",
   "execution_count": 1,
   "metadata": {},
   "outputs": [],
   "source": [
    "import numpy as np\n",
    "from sympy import *\n",
    "from sympy.solvers.solvers import solve"
   ]
  },
  {
   "cell_type": "markdown",
   "metadata": {},
   "source": [
    "**__1.__ Решить систему уравнений методом Гаусса: $\\begin{cases}\n",
    "x_{1}+x_{2}-x_{3}-2x_{4}=0, \\\\\n",
    "2x_{1}+x_{2}-x_{3}+x_{4}=-2, \\\\\n",
    "x_{1}+x_{2}-3x_{3}+x_{4}=4.\n",
    "\\end{cases}$**"
   ]
  },
  {
   "cell_type": "markdown",
   "metadata": {},
   "source": [
    "По методу Гаусса необходимо записать систему уравнений в виде расширенной матрицы и произвести элементарные преобразования прямым ходом, пока не будет возможно выразить одну из переменных, затем методом обратного хода найти значения всех остальных переменных.\n",
    "$A = \\begin{pmatrix}\n",
    "1 & 1 & -1 & -2 & | & 0\\\\ \n",
    "2 & 1 & -1 & 1 & | & -2\\\\ \n",
    "1 & 1 & -3 & 1 & | & 4\n",
    "\\end{pmatrix}$  \n",
    "Прибавим к второй стоке первую, умноженную на -2 (-2 -2 2 4 | 0), и к третьей первую, умноженную на -1 (-1 -1 1 2 | 0):\n",
    "$A = \\begin{pmatrix}\n",
    "1 & 1 & -1 & -2 & | & 0\\\\ \n",
    "0 & -1 & 1 & 5 & | & -2\\\\ \n",
    "0 & 0 & -2 & 3 & | & 4\n",
    "\\end{pmatrix}$  \n",
    "Получится:  \n",
    "$\\begin{cases}\n",
    "x_{1}+x_{2}-x_{3}-2x_{4}=0, \\\\\n",
    "~~~~-x_{2}+x_{3}+5x_{4}=-2, \\\\\n",
    "~~~~~~~~~~~-2x_{3}+3x_{4}=4.\n",
    "\\end{cases}$  \n",
    "Бесконечное множество решений принято записывать в виде общего решения.   \n",
    "Последнее уравнение содержит две неизвестных. Эти базисные неизвестные нужно выразить через свободные неизвестные. В данном случае можно рассматривать в качестве свободного параметра $x_{4}=c$. Тогда, выражая остальные переменные через $c$, получим:  \n",
    "$x_{4}=c,$  \n",
    "$-2x_{3} + 3с = 4 \\; \\Leftrightarrow \\; x_{3} = {{-4 + 3с}\\over{2}} \\; \\Leftrightarrow \\; x_{3} = {{3}\\over{2}}с - 2$  \n",
    "$-x_{2}+{{-4 + 3с}\\over{2}}+5c=-2 \\; \\Leftrightarrow \\; -2x_{2}-4 + 3с+10c=-4 \\; \\Leftrightarrow \\; -2x_{2}=- 13c \\; \\Leftrightarrow \\; x_{2}={{13с}\\over{2}} \\; \\Leftrightarrow \\; x_{2}={{13}\\over{2}}с$  \n",
    "$x_{1}+{{13с}\\over{2}}-{{-4 + 3с}\\over{2}}-2с=0 \\; \\Leftrightarrow \\; 2x_{1}+13c+4 - 3с-4с=0 \\; \\Leftrightarrow \\; 2x_{1} = {{-4-6с}\\over{2}} \\; \\Leftrightarrow \\; 2x_{1} = -3c-2$  \n",
    "Подставляя произвольные числа вместо $c$, мы получим частное решение. Например, при $c=2$:  \n",
    "$x_{1}=-3*2-2 = -8$  \n",
    "$x_{2}={{13 \\cdot 2}\\over{2}} = 13$  \n",
    "$x_{3}= {{3 \\cdot 2}\\over{2}}-2 = 1$  \n",
    "$x_{4}=2$  \n",
    "Подставим значения в исходную систему:  \n",
    "$\\begin{cases}\n",
    "x_{1}+x_{2}-x_{3}-2x_{4}=0, \\\\\n",
    "2x_{1}+x_{2}-x_{3}+x_{4}=-2, \\\\\n",
    "x_{1}+x_{2}-3x_{3}+x_{4}=4.\n",
    "\\end{cases} \\; \\Leftrightarrow \\; \\begin{cases}\n",
    "-8+13-1-2\\cdot2=0, \\\\\n",
    "2\\cdot(-8)+13-1+2=-2, \\\\\n",
    "-8+13-3\\cdot1+2=4.\n",
    "\\end{cases} \\; \\Leftrightarrow \\; \\begin{cases}\n",
    "0=0, \\\\\n",
    "-2=-2, \\\\\n",
    "4=4.\n",
    "\\end{cases}$  \n",
    "Параметр $c$ может принимать бесконечное количество значений, при которых уравнения в системе будут обращаться в тождества."
   ]
  },
  {
   "cell_type": "code",
   "execution_count": 2,
   "metadata": {},
   "outputs": [],
   "source": [
    "# проверка"
   ]
  },
  {
   "cell_type": "code",
   "execution_count": 3,
   "metadata": {},
   "outputs": [],
   "source": [
    "x1 = Symbol('x1')\n",
    "x2 = Symbol('x2')\n",
    "x3 = Symbol('x3')\n",
    "x4 = Symbol('x4')"
   ]
  },
  {
   "cell_type": "code",
   "execution_count": 4,
   "metadata": {
    "scrolled": true
   },
   "outputs": [
    {
     "data": {
      "text/latex": [
       "$\\displaystyle \\left[\\begin{matrix}x_{1} & x_{2} & - x_{3} & - 2 x_{4}\\\\2 x_{1} & x_{2} & - x_{3} & x_{4}\\\\x_{1} & x_{2} & - 3 x_{3} & x_{4}\\end{matrix}\\right]$"
      ],
      "text/plain": [
       "Matrix([\n",
       "[  x1, x2,   -x3, -2*x4],\n",
       "[2*x1, x2,   -x3,    x4],\n",
       "[  x1, x2, -3*x3,    x4]])"
      ]
     },
     "execution_count": 4,
     "metadata": {},
     "output_type": "execute_result"
    }
   ],
   "source": [
    "A = Matrix([[x1, x2, -x3, -2*x4],[2*x1, x2, -x3, x4], [x1, x2, -3*x3, x4]])\n",
    "A"
   ]
  },
  {
   "cell_type": "code",
   "execution_count": 5,
   "metadata": {
    "scrolled": true
   },
   "outputs": [
    {
     "data": {
      "text/latex": [
       "$\\displaystyle \\left[\\begin{matrix}0\\\\-2\\\\4\\end{matrix}\\right]$"
      ],
      "text/plain": [
       "Matrix([\n",
       "[ 0],\n",
       "[-2],\n",
       "[ 4]])"
      ]
     },
     "execution_count": 5,
     "metadata": {},
     "output_type": "execute_result"
    }
   ],
   "source": [
    "b = Matrix([0, -2, 4])\n",
    "b"
   ]
  },
  {
   "cell_type": "code",
   "execution_count": 6,
   "metadata": {},
   "outputs": [
    {
     "data": {
      "text/latex": [
       "$\\displaystyle \\left[\\begin{matrix}x_{1} & x_{2} & - x_{3} & - 2 x_{4}\\\\0 & - x_{2} & x_{3} & 5 x_{4}\\\\0 & 0 & - 2 x_{3} & 3 x_{4}\\end{matrix}\\right]$"
      ],
      "text/plain": [
       "Matrix([\n",
       "[x1,  x2,   -x3, -2*x4],\n",
       "[ 0, -x2,    x3,  5*x4],\n",
       "[ 0,   0, -2*x3,  3*x4]])"
      ]
     },
     "execution_count": 6,
     "metadata": {},
     "output_type": "execute_result"
    }
   ],
   "source": [
    "A_ = Matrix([[x1, x2, -x3, -2*x4],[0, -x2, x3, 5*x4], [0, 0, -2*x3, 3*x4]])\n",
    "A_"
   ]
  },
  {
   "cell_type": "code",
   "execution_count": 7,
   "metadata": {},
   "outputs": [],
   "source": [
    "# -2x_{3} + 3x_{4} = 4\n",
    "a1 = -2*x3 + 3*x4 - 4"
   ]
  },
  {
   "cell_type": "code",
   "execution_count": 8,
   "metadata": {},
   "outputs": [
    {
     "data": {
      "text/plain": [
       "[{x3: 3*x4/2 - 2}]"
      ]
     },
     "execution_count": 8,
     "metadata": {},
     "output_type": "execute_result"
    }
   ],
   "source": [
    "solve(a1)"
   ]
  },
  {
   "cell_type": "code",
   "execution_count": 9,
   "metadata": {},
   "outputs": [],
   "source": [
    "# -x_{2} + x_{3} + 5x_{4} = -2\n",
    "a2 = -x2 + (3*x4)/2 - 2 + 5*x4 + 2"
   ]
  },
  {
   "cell_type": "code",
   "execution_count": 10,
   "metadata": {},
   "outputs": [
    {
     "data": {
      "text/plain": [
       "[{x2: 13*x4/2}]"
      ]
     },
     "execution_count": 10,
     "metadata": {},
     "output_type": "execute_result"
    }
   ],
   "source": [
    "solve(a2)"
   ]
  },
  {
   "cell_type": "code",
   "execution_count": 11,
   "metadata": {},
   "outputs": [],
   "source": [
    "# x_{1} + x_{2} - x_{3} - 2x_{4} = 0\n",
    "a3 = x1 + 13*x4/2 - (3*x4/2 - 2) - 2*x4"
   ]
  },
  {
   "cell_type": "code",
   "execution_count": 12,
   "metadata": {},
   "outputs": [
    {
     "data": {
      "text/plain": [
       "[{x1: -3*x4 - 2}]"
      ]
     },
     "execution_count": 12,
     "metadata": {},
     "output_type": "execute_result"
    }
   ],
   "source": [
    "solve(a3)"
   ]
  },
  {
   "cell_type": "code",
   "execution_count": 13,
   "metadata": {},
   "outputs": [
    {
     "data": {
      "text/plain": [
       "-8"
      ]
     },
     "execution_count": 13,
     "metadata": {},
     "output_type": "execute_result"
    }
   ],
   "source": [
    "# x4 = 2\n",
    "x_1 = -3*2 - 2\n",
    "x_1"
   ]
  },
  {
   "cell_type": "code",
   "execution_count": 14,
   "metadata": {},
   "outputs": [
    {
     "data": {
      "text/plain": [
       "13.0"
      ]
     },
     "execution_count": 14,
     "metadata": {},
     "output_type": "execute_result"
    }
   ],
   "source": [
    "x_2 = 13*2/2\n",
    "x_2"
   ]
  },
  {
   "cell_type": "code",
   "execution_count": 15,
   "metadata": {},
   "outputs": [
    {
     "data": {
      "text/plain": [
       "1.0"
      ]
     },
     "execution_count": 15,
     "metadata": {},
     "output_type": "execute_result"
    }
   ],
   "source": [
    "x_3 = 3*2/2 - 2\n",
    "x_3"
   ]
  },
  {
   "cell_type": "code",
   "execution_count": 16,
   "metadata": {},
   "outputs": [
    {
     "data": {
      "text/plain": [
       "2"
      ]
     },
     "execution_count": 16,
     "metadata": {},
     "output_type": "execute_result"
    }
   ],
   "source": [
    "x_4 = 2\n",
    "x_4"
   ]
  },
  {
   "cell_type": "code",
   "execution_count": 17,
   "metadata": {
    "scrolled": true
   },
   "outputs": [
    {
     "data": {
      "text/plain": [
       "array([[ -8.,  13.,  -1.,  -4.],\n",
       "       [-16.,  13.,  -1.,   2.],\n",
       "       [ -8.,  13.,  -3.,   2.]])"
      ]
     },
     "execution_count": 17,
     "metadata": {},
     "output_type": "execute_result"
    }
   ],
   "source": [
    "A = np.array([[x_1, x_2, -x_3, -2*x_4],[2*x_1, x_2, -x_3, x_4], [x_1, x_2, -3*x_3, x_4]])\n",
    "A"
   ]
  },
  {
   "cell_type": "code",
   "execution_count": 18,
   "metadata": {},
   "outputs": [
    {
     "data": {
      "text/plain": [
       "0.0"
      ]
     },
     "execution_count": 18,
     "metadata": {},
     "output_type": "execute_result"
    }
   ],
   "source": [
    "sum(A[0])"
   ]
  },
  {
   "cell_type": "code",
   "execution_count": 19,
   "metadata": {},
   "outputs": [
    {
     "data": {
      "text/plain": [
       "-2.0"
      ]
     },
     "execution_count": 19,
     "metadata": {},
     "output_type": "execute_result"
    }
   ],
   "source": [
    "sum(A[1])"
   ]
  },
  {
   "cell_type": "code",
   "execution_count": 20,
   "metadata": {},
   "outputs": [
    {
     "data": {
      "text/plain": [
       "4.0"
      ]
     },
     "execution_count": 20,
     "metadata": {},
     "output_type": "execute_result"
    }
   ],
   "source": [
    "sum(A[2])"
   ]
  },
  {
   "cell_type": "code",
   "execution_count": 21,
   "metadata": {},
   "outputs": [
    {
     "data": {
      "text/latex": [
       "$\\displaystyle \\left[\\begin{matrix}0\\\\-2\\\\4\\end{matrix}\\right]$"
      ],
      "text/plain": [
       "Matrix([\n",
       "[ 0],\n",
       "[-2],\n",
       "[ 4]])"
      ]
     },
     "execution_count": 21,
     "metadata": {},
     "output_type": "execute_result"
    }
   ],
   "source": [
    "b"
   ]
  },
  {
   "cell_type": "code",
   "execution_count": 22,
   "metadata": {},
   "outputs": [],
   "source": [
    "# система уравнений решена верно"
   ]
  },
  {
   "cell_type": "markdown",
   "metadata": {},
   "source": [
    "**__2.__ Проверить на совместность и выяснить, сколько решений будет иметь система линейных уравнений:  \n",
    "а) $\\begin{cases}\n",
    "3x_{1}-x_{2}+x_{3}=4, \\\\\n",
    "2x_{1}-5x_{2}-3x_{3}=-17, \\\\\n",
    "x_{1}+x_{2}-x_{3}=0;\n",
    "\\end{cases}$**"
   ]
  },
  {
   "cell_type": "code",
   "execution_count": 23,
   "metadata": {},
   "outputs": [
    {
     "data": {
      "text/latex": [
       "$\\displaystyle \\left[\\begin{matrix}3 & -1 & 1\\\\2 & -5 & -3\\\\1 & 1 & -1\\end{matrix}\\right]$"
      ],
      "text/plain": [
       "Matrix([\n",
       "[3, -1,  1],\n",
       "[2, -5, -3],\n",
       "[1,  1, -1]])"
      ]
     },
     "execution_count": 23,
     "metadata": {},
     "output_type": "execute_result"
    }
   ],
   "source": [
    "A = Matrix([[3, -1, 1], [2, -5, -3], [1, 1, -1]])\n",
    "A"
   ]
  },
  {
   "cell_type": "code",
   "execution_count": 24,
   "metadata": {},
   "outputs": [
    {
     "data": {
      "text/latex": [
       "$\\displaystyle \\left[\\begin{matrix}4\\\\-17\\\\0\\end{matrix}\\right]$"
      ],
      "text/plain": [
       "Matrix([\n",
       "[  4],\n",
       "[-17],\n",
       "[  0]])"
      ]
     },
     "execution_count": 24,
     "metadata": {},
     "output_type": "execute_result"
    }
   ],
   "source": [
    "b = Matrix([4, -17, 0])\n",
    "b"
   ]
  },
  {
   "cell_type": "code",
   "execution_count": 25,
   "metadata": {
    "scrolled": true
   },
   "outputs": [
    {
     "data": {
      "text/latex": [
       "$\\displaystyle 32$"
      ],
      "text/plain": [
       "32"
      ]
     },
     "execution_count": 25,
     "metadata": {},
     "output_type": "execute_result"
    }
   ],
   "source": [
    "A.det()"
   ]
  },
  {
   "cell_type": "markdown",
   "metadata": {},
   "source": [
    "Определитель матрицы не равен 0, следовательно система совместна (матрица, обратная матрице А, существует)"
   ]
  },
  {
   "cell_type": "code",
   "execution_count": 26,
   "metadata": {},
   "outputs": [
    {
     "data": {
      "text/plain": [
       "3"
      ]
     },
     "execution_count": 26,
     "metadata": {},
     "output_type": "execute_result"
    }
   ],
   "source": [
    "rankA = A.rank()\n",
    "rankA"
   ]
  },
  {
   "cell_type": "code",
   "execution_count": 27,
   "metadata": {},
   "outputs": [
    {
     "data": {
      "text/latex": [
       "$\\displaystyle \\left[\\begin{matrix}3 & -1 & 1 & 4\\\\2 & -5 & -3 & -17\\\\1 & 1 & -1 & 0\\end{matrix}\\right]$"
      ],
      "text/plain": [
       "Matrix([\n",
       "[3, -1,  1,   4],\n",
       "[2, -5, -3, -17],\n",
       "[1,  1, -1,   0]])"
      ]
     },
     "execution_count": 27,
     "metadata": {},
     "output_type": "execute_result"
    }
   ],
   "source": [
    "A2 = A.col_insert(3, b)\n",
    "A2"
   ]
  },
  {
   "cell_type": "code",
   "execution_count": 28,
   "metadata": {},
   "outputs": [
    {
     "data": {
      "text/plain": [
       "3"
      ]
     },
     "execution_count": 28,
     "metadata": {},
     "output_type": "execute_result"
    }
   ],
   "source": [
    "rankA2 = A2.rank()\n",
    "rankA2"
   ]
  },
  {
   "cell_type": "code",
   "execution_count": 29,
   "metadata": {},
   "outputs": [
    {
     "data": {
      "text/plain": [
       "3"
      ]
     },
     "execution_count": 29,
     "metadata": {},
     "output_type": "execute_result"
    }
   ],
   "source": [
    "n = A.shape[1]\n",
    "n"
   ]
  },
  {
   "cell_type": "code",
   "execution_count": 30,
   "metadata": {},
   "outputs": [
    {
     "data": {
      "text/plain": [
       "True"
      ]
     },
     "execution_count": 30,
     "metadata": {},
     "output_type": "execute_result"
    }
   ],
   "source": [
    "rankA == rankA2 == n"
   ]
  },
  {
   "cell_type": "markdown",
   "metadata": {},
   "source": [
    "Ранги матрицы коэффициентов A и расширенной матрицы A2 совпадают и равны количеству неизвестных n, значит, по теореме Кронекера-Капелли, система линейных уравнений совместна и определена, то есть имеет единственное решение."
   ]
  },
  {
   "cell_type": "markdown",
   "metadata": {},
   "source": [
    "**__2.__ Проверить на совместность и выяснить, сколько решений будет иметь система линейных уравнений:  \n",
    "б) $\\begin{cases}\n",
    "2x_{1}-4x_{2}+6x_{3}=1, \\\\\n",
    "x_{1}-2x_{2}+3x_{3}=-2, \\\\\n",
    "3x_{1}-6x_{2}+9x_{3}=5;\n",
    "\\end{cases}$**"
   ]
  },
  {
   "cell_type": "code",
   "execution_count": 31,
   "metadata": {},
   "outputs": [
    {
     "data": {
      "text/latex": [
       "$\\displaystyle \\left[\\begin{matrix}2 & -4 & 6\\\\1 & -2 & 3\\\\3 & -6 & 9\\end{matrix}\\right]$"
      ],
      "text/plain": [
       "Matrix([\n",
       "[2, -4, 6],\n",
       "[1, -2, 3],\n",
       "[3, -6, 9]])"
      ]
     },
     "execution_count": 31,
     "metadata": {},
     "output_type": "execute_result"
    }
   ],
   "source": [
    "A = Matrix([[2, -4, 6], [1, -2, 3], [3, -6, 9]])\n",
    "A"
   ]
  },
  {
   "cell_type": "code",
   "execution_count": 32,
   "metadata": {},
   "outputs": [
    {
     "data": {
      "text/latex": [
       "$\\displaystyle \\left[\\begin{matrix}1\\\\-2\\\\5\\end{matrix}\\right]$"
      ],
      "text/plain": [
       "Matrix([\n",
       "[ 1],\n",
       "[-2],\n",
       "[ 5]])"
      ]
     },
     "execution_count": 32,
     "metadata": {},
     "output_type": "execute_result"
    }
   ],
   "source": [
    "b = Matrix([1, -2, 5])\n",
    "b"
   ]
  },
  {
   "cell_type": "code",
   "execution_count": 33,
   "metadata": {},
   "outputs": [
    {
     "data": {
      "text/latex": [
       "$\\displaystyle 0$"
      ],
      "text/plain": [
       "0"
      ]
     },
     "execution_count": 33,
     "metadata": {},
     "output_type": "execute_result"
    }
   ],
   "source": [
    "A.det()"
   ]
  },
  {
   "cell_type": "markdown",
   "metadata": {},
   "source": [
    "Определитель матрицы равен 0, следовательно система несовместна (не имеет решений). Проверим ещё с помощью теоремы Кронекера-Капелли."
   ]
  },
  {
   "cell_type": "code",
   "execution_count": 34,
   "metadata": {},
   "outputs": [
    {
     "data": {
      "text/latex": [
       "$\\displaystyle \\left[\\begin{matrix}2 & -4 & 6 & 1\\\\1 & -2 & 3 & -2\\\\3 & -6 & 9 & 5\\end{matrix}\\right]$"
      ],
      "text/plain": [
       "Matrix([\n",
       "[2, -4, 6,  1],\n",
       "[1, -2, 3, -2],\n",
       "[3, -6, 9,  5]])"
      ]
     },
     "execution_count": 34,
     "metadata": {},
     "output_type": "execute_result"
    }
   ],
   "source": [
    "A2 = A.col_insert(3, b)\n",
    "A2"
   ]
  },
  {
   "cell_type": "code",
   "execution_count": 35,
   "metadata": {},
   "outputs": [
    {
     "data": {
      "text/plain": [
       "2"
      ]
     },
     "execution_count": 35,
     "metadata": {},
     "output_type": "execute_result"
    }
   ],
   "source": [
    "rankA2 = A2.rank()\n",
    "rankA2"
   ]
  },
  {
   "cell_type": "code",
   "execution_count": 36,
   "metadata": {},
   "outputs": [
    {
     "data": {
      "text/plain": [
       "False"
      ]
     },
     "execution_count": 36,
     "metadata": {},
     "output_type": "execute_result"
    }
   ],
   "source": [
    "rankA == rankA2"
   ]
  },
  {
   "cell_type": "markdown",
   "metadata": {},
   "source": [
    "Ранги матрицы коэффициентов A и расширенной матрицы A2 не совпадают, значит, по теореме Кронекера-Капелли, система линейных уравнений также несовместна, то есть не имеет решений."
   ]
  },
  {
   "cell_type": "markdown",
   "metadata": {},
   "source": [
    "**__2.__ Проверить на совместность и выяснить, сколько решений будет иметь система линейных уравнений:  \n",
    "в) $\\begin{cases}\n",
    "x_{1}+2x_{2}+5x_{3}=4, \\\\\n",
    "3x_{1}+x_{2}-8x_{3}=-2. \n",
    "\\end{cases}$**"
   ]
  },
  {
   "cell_type": "code",
   "execution_count": 37,
   "metadata": {
    "scrolled": false
   },
   "outputs": [
    {
     "data": {
      "text/latex": [
       "$\\displaystyle \\left[\\begin{matrix}1 & 2 & 5\\\\3 & 1 & -8\\end{matrix}\\right]$"
      ],
      "text/plain": [
       "Matrix([\n",
       "[1, 2,  5],\n",
       "[3, 1, -8]])"
      ]
     },
     "execution_count": 37,
     "metadata": {},
     "output_type": "execute_result"
    }
   ],
   "source": [
    "A = Matrix([[1, 2, 5], [3, 1, -8]])\n",
    "A"
   ]
  },
  {
   "cell_type": "markdown",
   "metadata": {},
   "source": [
    "Определитель посчитать не можем, так как матрица не квадратная. Для определения совместности используем теорему Кронекера-Капелли."
   ]
  },
  {
   "cell_type": "code",
   "execution_count": 38,
   "metadata": {
    "scrolled": true
   },
   "outputs": [
    {
     "data": {
      "text/latex": [
       "$\\displaystyle \\left[\\begin{matrix}4\\\\-2\\end{matrix}\\right]$"
      ],
      "text/plain": [
       "Matrix([\n",
       "[ 4],\n",
       "[-2]])"
      ]
     },
     "execution_count": 38,
     "metadata": {},
     "output_type": "execute_result"
    }
   ],
   "source": [
    "b = Matrix([4, -2])\n",
    "b"
   ]
  },
  {
   "cell_type": "code",
   "execution_count": 39,
   "metadata": {},
   "outputs": [
    {
     "data": {
      "text/plain": [
       "2"
      ]
     },
     "execution_count": 39,
     "metadata": {},
     "output_type": "execute_result"
    }
   ],
   "source": [
    "rankA = A.rank()\n",
    "rankA"
   ]
  },
  {
   "cell_type": "code",
   "execution_count": 40,
   "metadata": {},
   "outputs": [
    {
     "data": {
      "text/latex": [
       "$\\displaystyle \\left[\\begin{matrix}1 & 2 & 5 & 4\\\\3 & 1 & -8 & -2\\end{matrix}\\right]$"
      ],
      "text/plain": [
       "Matrix([\n",
       "[1, 2,  5,  4],\n",
       "[3, 1, -8, -2]])"
      ]
     },
     "execution_count": 40,
     "metadata": {},
     "output_type": "execute_result"
    }
   ],
   "source": [
    "A2 = A.col_insert(3, b)\n",
    "A2"
   ]
  },
  {
   "cell_type": "code",
   "execution_count": 41,
   "metadata": {},
   "outputs": [
    {
     "data": {
      "text/plain": [
       "2"
      ]
     },
     "execution_count": 41,
     "metadata": {},
     "output_type": "execute_result"
    }
   ],
   "source": [
    "rankA2 = A2.rank()\n",
    "rankA2"
   ]
  },
  {
   "cell_type": "code",
   "execution_count": 42,
   "metadata": {},
   "outputs": [
    {
     "data": {
      "text/plain": [
       "3"
      ]
     },
     "execution_count": 42,
     "metadata": {},
     "output_type": "execute_result"
    }
   ],
   "source": [
    "n = A.shape[1]\n",
    "n"
   ]
  },
  {
   "cell_type": "code",
   "execution_count": 43,
   "metadata": {},
   "outputs": [
    {
     "data": {
      "text/plain": [
       "True"
      ]
     },
     "execution_count": 43,
     "metadata": {},
     "output_type": "execute_result"
    }
   ],
   "source": [
    "rankA == rankA2 < n"
   ]
  },
  {
   "cell_type": "markdown",
   "metadata": {},
   "source": [
    "Ранги матрицы коэффициентов A и расширенной матрицы A2 совпадают и меньше количества неизвестных n, значит, по теореме Кронекера-Капелли, система линейных уравнений совместна и неопределена, то есть имеет бесконечное число решение."
   ]
  },
  {
   "cell_type": "markdown",
   "metadata": {},
   "source": [
    "**__3.__ Проверить на совместность и выяснить, сколько решений будет иметь система линейных уравнений, заданная расширенной матрицей $\\tilde{A}=\\begin{pmatrix}\n",
    "\\left.\\begin{matrix}\n",
    "1 & 3 & -2 & 4\\\\ \n",
    "0 & 5 & 0 & 1\\\\ \n",
    "0 & 0 & 3 & 0\\\\ \n",
    "0 & 0 & 0 & 2\n",
    "\\end{matrix}\\right|\n",
    "\\begin{matrix}\n",
    "3\\\\ \n",
    "2\\\\\n",
    "4\\\\\n",
    "1\n",
    "\\end{matrix}\n",
    "\\end{pmatrix}.$**"
   ]
  },
  {
   "cell_type": "code",
   "execution_count": 44,
   "metadata": {},
   "outputs": [
    {
     "data": {
      "text/latex": [
       "$\\displaystyle \\left[\\begin{matrix}1 & 3 & -2 & 4 & 3\\\\0 & 5 & 0 & 1 & 2\\\\0 & 0 & 3 & 0 & 4\\\\0 & 0 & 0 & 2 & 1\\end{matrix}\\right]$"
      ],
      "text/plain": [
       "Matrix([\n",
       "[1, 3, -2, 4, 3],\n",
       "[0, 5,  0, 1, 2],\n",
       "[0, 0,  3, 0, 4],\n",
       "[0, 0,  0, 2, 1]])"
      ]
     },
     "execution_count": 44,
     "metadata": {},
     "output_type": "execute_result"
    }
   ],
   "source": [
    "A_ = Matrix([[1, 3, -2, 4, 3], [0, 5, 0, 1, 2], [0, 0, 3, 0, 4], [0, 0, 0, 2, 1]])\n",
    "A_"
   ]
  },
  {
   "cell_type": "code",
   "execution_count": 45,
   "metadata": {},
   "outputs": [
    {
     "data": {
      "text/latex": [
       "$\\displaystyle \\left[\\begin{matrix}1 & 3 & -2 & 4\\\\0 & 5 & 0 & 1\\\\0 & 0 & 3 & 0\\\\0 & 0 & 0 & 2\\end{matrix}\\right]$"
      ],
      "text/plain": [
       "Matrix([\n",
       "[1, 3, -2, 4],\n",
       "[0, 5,  0, 1],\n",
       "[0, 0,  3, 0],\n",
       "[0, 0,  0, 2]])"
      ]
     },
     "execution_count": 45,
     "metadata": {},
     "output_type": "execute_result"
    }
   ],
   "source": [
    "A = A_.copy()\n",
    "A.col_del(4)\n",
    "A"
   ]
  },
  {
   "cell_type": "code",
   "execution_count": 46,
   "metadata": {},
   "outputs": [
    {
     "data": {
      "text/plain": [
       "4"
      ]
     },
     "execution_count": 46,
     "metadata": {},
     "output_type": "execute_result"
    }
   ],
   "source": [
    "rankA_ = A_.rank()\n",
    "rankA_"
   ]
  },
  {
   "cell_type": "code",
   "execution_count": 47,
   "metadata": {},
   "outputs": [
    {
     "data": {
      "text/plain": [
       "4"
      ]
     },
     "execution_count": 47,
     "metadata": {},
     "output_type": "execute_result"
    }
   ],
   "source": [
    "rankA = A.rank()\n",
    "rankA"
   ]
  },
  {
   "cell_type": "code",
   "execution_count": 48,
   "metadata": {},
   "outputs": [
    {
     "data": {
      "text/plain": [
       "4"
      ]
     },
     "execution_count": 48,
     "metadata": {},
     "output_type": "execute_result"
    }
   ],
   "source": [
    "n = A.shape[1]\n",
    "n"
   ]
  },
  {
   "cell_type": "code",
   "execution_count": 49,
   "metadata": {},
   "outputs": [
    {
     "data": {
      "text/plain": [
       "True"
      ]
     },
     "execution_count": 49,
     "metadata": {},
     "output_type": "execute_result"
    }
   ],
   "source": [
    "rankA == rankA_ == n"
   ]
  },
  {
   "cell_type": "markdown",
   "metadata": {},
   "source": [
    "Ранги матрицы коэффициентов A и расширенной матрицы A_ совпадают и равны количеству неизвестных n, значит, по теореме Кронекера-Капелли, система линейных уравнений совместна и определена, то есть имеет единственное решение."
   ]
  },
  {
   "cell_type": "markdown",
   "metadata": {},
   "source": [
    "**__4.__ Дана система линейных уравнений, заданная расширенной матрицей $\\tilde{A}=\\begin{pmatrix}\n",
    "\\left.\\begin{matrix}\n",
    "1 & 2 & 3\\\\ \n",
    "4 & 5 & 6\\\\ \n",
    "7 & 8 & 9\n",
    "\\end{matrix}\\right|\n",
    "\\begin{matrix}\n",
    "a\\\\ \n",
    "b\\\\\n",
    "c\n",
    "\\end{matrix}\n",
    "\\end{pmatrix}.$  \n",
    "Найти соотношение между параметрами $a$, $b$ и $c$, при которых система является несовместной.**"
   ]
  },
  {
   "cell_type": "markdown",
   "metadata": {},
   "source": [
    "Система будет несовместной, если ранг матрицы коэффициентов будет меньше ранга расширенной матрицы, то есть, если хотя бы одна строка матрицы коэффициентов будет иметь все элементы нули, а элемент расширенной матрицы для этой строки будет не равен 0.\n",
    "Попробуем таким образом упростить расширенную матрицу путём элементарных преобразований:  \n",
    "$\\tilde{A} = \\begin{pmatrix}\n",
    "1 & 2 & 3 & | & a\\\\ \n",
    "4 & 5 & 6 & | & b\\\\ \n",
    "7 & 8 & 9 & | & c\n",
    "\\end{pmatrix}$  \n",
    "Прибавим ко второй стоке первую, умноженную на -2 (-2 -4 -6 | -2a), и к третьей первую, умноженную на -3 (-3 -6 -9 | -3a):  \n",
    "$\\tilde{A} = \\begin{pmatrix}\n",
    "1 & 2 & 3 & | & a\\\\ \n",
    "2 & 1 & 0 & | & b-2a\\\\ \n",
    "4 & 2 & 0 & | & c-3a\n",
    "\\end{pmatrix}$  \n",
    "Прибавим к третьей строке вторую, умноженную на -2 (-4 -2 0 | -2(b-2a)):  \n",
    "$\\tilde{A} = \\begin{pmatrix}\n",
    "1 & 2 & 3 & | & a\\\\ \n",
    "2 & 1 & 0 & | & b-2a\\\\ \n",
    "0 & 0 & 0 & | & c-3a-2(b-2a))\n",
    "\\end{pmatrix}$  \n",
    "Последняя строка обнулилась, если $c-3a-2(b-2a)) = 0$, то решения будут, система будет совместной. По заданию, нужно определить соотношение между a, b и c, при котором система будет несовместна:  \n",
    "$c-3a-2(b-2a)) \\neq 0$  \n",
    "$c - 3a - 2b + 2a = c - a - 2b$  \n",
    "$c - a - 2b \\neq 0$ - соотношение между параметрами, при которых система линейных уравнений является несовместной."
   ]
  },
  {
   "cell_type": "markdown",
   "metadata": {},
   "source": [
    "## Практическое задание к уроку \"Урок 4. Системы линейных уравнений. Часть 2\""
   ]
  },
  {
   "cell_type": "markdown",
   "metadata": {},
   "source": [
    "**__1.__ Решить систему уравнений методом Крамера:  \n",
    "а) $\\begin{cases}\n",
    "x_{1}-2x_{2}=1 \\\\\n",
    "3x_{1}-4x_{2}=7\n",
    "\\end{cases}$**"
   ]
  },
  {
   "cell_type": "markdown",
   "metadata": {},
   "source": [
    "По методу Крамера, неизвестные можно найти с помощью формулы:  \n",
    "$$x_{i}=\\frac{detA_{i}}{detA},$$\n",
    "\n",
    "где $A_{i}$ — это матрица, получаемая заменой $i$-го столбца на вектор-столбец свободных членов $b$.  "
   ]
  },
  {
   "cell_type": "markdown",
   "metadata": {},
   "source": [
    "$A = \\begin{pmatrix}\n",
    "1 & -2\\\\ \n",
    "3 & -4\n",
    "\\end{pmatrix}$  \n",
    "\n",
    "$b = \\begin{pmatrix}\n",
    "1\\\\ \n",
    "7\n",
    "\\end{pmatrix}$  \n",
    "\n",
    "$detA = \\begin{vmatrix}\n",
    "1 & -2\\\\ \n",
    "3 & -4\n",
    "\\end{vmatrix} = 1 \\cdot (-4) - (-2) \\cdot 3 = -4 + 6 = 2$  \n",
    "\n",
    "Количество неизвестных и уравнений совпадает, определитель матрицы не равен 0, значит, систему уравнений можно решить методом Крамера.  \n",
    "\n",
    "$detA_{1} = \\begin{vmatrix}\n",
    "1 & -2\\\\ \n",
    "7 & -4\n",
    "\\end{vmatrix} = 1 \\cdot (-4) - (-2) \\cdot 7 = -4 + 14 = 10$\n",
    "\n",
    "$detA_{2} = \\begin{vmatrix}\n",
    "1 & 1\\\\ \n",
    "3 & 7\n",
    "\\end{vmatrix} = 1 \\cdot 7 - 1 \\cdot 3 = 7 - 3 = 4$\n",
    "\n",
    "$x_{1}=\\frac{detA_{1}}{detA} = 10/2 = 5$  \n",
    "$x_{2}=\\frac{detA_{2}}{detA} = 4/2 = 2$"
   ]
  },
  {
   "cell_type": "code",
   "execution_count": 50,
   "metadata": {},
   "outputs": [],
   "source": [
    "# проверка"
   ]
  },
  {
   "cell_type": "code",
   "execution_count": 51,
   "metadata": {},
   "outputs": [
    {
     "data": {
      "text/latex": [
       "$\\displaystyle \\left[\\begin{matrix}1 & -2\\\\3 & -4\\end{matrix}\\right]$"
      ],
      "text/plain": [
       "Matrix([\n",
       "[1, -2],\n",
       "[3, -4]])"
      ]
     },
     "execution_count": 51,
     "metadata": {},
     "output_type": "execute_result"
    }
   ],
   "source": [
    "A = Matrix([[1, -2], [3, -4]])\n",
    "A"
   ]
  },
  {
   "cell_type": "code",
   "execution_count": 52,
   "metadata": {},
   "outputs": [
    {
     "data": {
      "text/latex": [
       "$\\displaystyle \\left[\\begin{matrix}1\\\\7\\end{matrix}\\right]$"
      ],
      "text/plain": [
       "Matrix([\n",
       "[1],\n",
       "[7]])"
      ]
     },
     "execution_count": 52,
     "metadata": {},
     "output_type": "execute_result"
    }
   ],
   "source": [
    "b = Matrix([1, 7])\n",
    "b"
   ]
  },
  {
   "cell_type": "code",
   "execution_count": 53,
   "metadata": {},
   "outputs": [
    {
     "data": {
      "text/latex": [
       "$\\displaystyle \\left[\\begin{matrix}1 & -2\\\\7 & -4\\end{matrix}\\right]$"
      ],
      "text/plain": [
       "Matrix([\n",
       "[1, -2],\n",
       "[7, -4]])"
      ]
     },
     "execution_count": 53,
     "metadata": {},
     "output_type": "execute_result"
    }
   ],
   "source": [
    "# заменяем первый столбец\n",
    "A1 = A.copy()\n",
    "A1.col_del(0)\n",
    "A1 = A1.col_insert(0, b)\n",
    "A1"
   ]
  },
  {
   "cell_type": "code",
   "execution_count": 54,
   "metadata": {},
   "outputs": [
    {
     "data": {
      "text/latex": [
       "$\\displaystyle \\left[\\begin{matrix}1 & 1\\\\3 & 7\\end{matrix}\\right]$"
      ],
      "text/plain": [
       "Matrix([\n",
       "[1, 1],\n",
       "[3, 7]])"
      ]
     },
     "execution_count": 54,
     "metadata": {},
     "output_type": "execute_result"
    }
   ],
   "source": [
    "# заменяем второй столбец\n",
    "A2 = A.copy()\n",
    "A2.col_del(1)\n",
    "A2 = A2.col_insert(1, b)\n",
    "A2"
   ]
  },
  {
   "cell_type": "code",
   "execution_count": 55,
   "metadata": {},
   "outputs": [
    {
     "data": {
      "text/latex": [
       "$\\displaystyle 2$"
      ],
      "text/plain": [
       "2"
      ]
     },
     "execution_count": 55,
     "metadata": {},
     "output_type": "execute_result"
    }
   ],
   "source": [
    "# определитель исходной матрицы\n",
    "detA = A.det()\n",
    "detA"
   ]
  },
  {
   "cell_type": "code",
   "execution_count": 56,
   "metadata": {},
   "outputs": [
    {
     "data": {
      "text/latex": [
       "$\\displaystyle 10$"
      ],
      "text/plain": [
       "10"
      ]
     },
     "execution_count": 56,
     "metadata": {},
     "output_type": "execute_result"
    }
   ],
   "source": [
    "# определитель матрицы с заменой первого столбца\n",
    "detA1 = A1.det()\n",
    "detA1"
   ]
  },
  {
   "cell_type": "code",
   "execution_count": 57,
   "metadata": {},
   "outputs": [
    {
     "data": {
      "text/latex": [
       "$\\displaystyle 4$"
      ],
      "text/plain": [
       "4"
      ]
     },
     "execution_count": 57,
     "metadata": {},
     "output_type": "execute_result"
    }
   ],
   "source": [
    "# определитель матрицы с заменой второго столбца\n",
    "detA2 = A2.det()\n",
    "detA2"
   ]
  },
  {
   "cell_type": "code",
   "execution_count": 58,
   "metadata": {},
   "outputs": [
    {
     "data": {
      "text/latex": [
       "$\\displaystyle 5$"
      ],
      "text/plain": [
       "5"
      ]
     },
     "execution_count": 58,
     "metadata": {},
     "output_type": "execute_result"
    }
   ],
   "source": [
    "# первое значение\n",
    "x1 = detA1/detA\n",
    "x1"
   ]
  },
  {
   "cell_type": "code",
   "execution_count": 59,
   "metadata": {},
   "outputs": [
    {
     "data": {
      "text/latex": [
       "$\\displaystyle 2$"
      ],
      "text/plain": [
       "2"
      ]
     },
     "execution_count": 59,
     "metadata": {},
     "output_type": "execute_result"
    }
   ],
   "source": [
    "# второе значение\n",
    "x2 = detA2/detA\n",
    "x2"
   ]
  },
  {
   "cell_type": "code",
   "execution_count": 60,
   "metadata": {},
   "outputs": [
    {
     "data": {
      "text/latex": [
       "$\\displaystyle \\left[\\begin{matrix}5\\\\2\\end{matrix}\\right]$"
      ],
      "text/plain": [
       "Matrix([\n",
       "[5],\n",
       "[2]])"
      ]
     },
     "execution_count": 60,
     "metadata": {},
     "output_type": "execute_result"
    }
   ],
   "source": [
    "X = Matrix([x1, x2])\n",
    "X"
   ]
  },
  {
   "cell_type": "markdown",
   "metadata": {},
   "source": [
    "**__1.__ Решить систему уравнений методом Крамера:  \n",
    "б) $\\begin{cases}\n",
    "2x_{1}-x_{2}+5x_{3}=10 \\\\\n",
    "x_{1}+x_{2}-3x_{3}=-2 \\\\\n",
    "2x_{1}+4x_{2}+x_{3}=1\n",
    "\\end{cases}$**"
   ]
  },
  {
   "cell_type": "markdown",
   "metadata": {},
   "source": [
    "$A = \\begin{pmatrix}\n",
    "2 & -1 & 5\\\\ \n",
    "1 & 1 & -3\\\\ \n",
    "2 & 4 & 1\n",
    "\\end{pmatrix}$  \n",
    "\n",
    "$b = \\begin{pmatrix}\n",
    "10\\\\ \n",
    "-2\\\\\n",
    "1\n",
    "\\end{pmatrix}$  \n",
    "\n",
    "Разложение по первому столбцу:\n",
    "$detA = \\begin{vmatrix}\n",
    "2 & -1 & 5\\\\ \n",
    "1 & 1 & -3\\\\ \n",
    "2 & 4 & 1\n",
    "\\end{vmatrix} = 2 \\cdot \\begin{vmatrix}\n",
    "1 & -3\\\\ \n",
    "4 & 1\n",
    "\\end{vmatrix} - 1 \\cdot \\begin{vmatrix}\n",
    "-1 & 5\\\\  \n",
    "4 & 1\n",
    "\\end{vmatrix} + 2 \\cdot \\begin{vmatrix}\n",
    "-1 & 5\\\\ \n",
    "1 & -3\n",
    "\\end{vmatrix} = 2 \\cdot (1 \\cdot 1 - (-3) \\cdot 1) - (-1 \\cdot 1 - 5 \\cdot 4) + 2 \\cdot (-1 \\cdot (-3) - 5 \\cdot 1) = 26 + 21 - 4 = 43$  \n",
    "\n",
    "Количество неизвестных и уравнений совпадает, определитель матрицы не равен 0, значит, систему уравнений можно решить методом Крамера.  \n",
    "\n",
    "Разложение по последней строке:\n",
    "$detA_{1} = \\begin{vmatrix}\n",
    "10 & -1 & 5\\\\ \n",
    "-2 & 1 & -3\\\\ \n",
    "1 & 4 & 1\n",
    "\\end{vmatrix} = 1 \\cdot \\begin{vmatrix}\n",
    "-1 & 5\\\\ \n",
    "1 & -3\n",
    "\\end{vmatrix} - 4 \\cdot \\begin{vmatrix}\n",
    "10 & 5\\\\ \n",
    "-2 & -3\n",
    "\\end{vmatrix} + 1 \\cdot \\begin{vmatrix}\n",
    "10 & -1\\\\ \n",
    "-2 & 1 \n",
    "\\end{vmatrix} = (-1 \\cdot (-3) - 5 \\cdot 1) - 4 \\cdot (10 \\cdot (-3) - 5 \\cdot (-2)) + (10 \\cdot 1 - (-1) \\cdot (-2)) = -2 + 80 + 8 = 86$  \n",
    "\n",
    "Разложение по первому столбцу:\n",
    "$detA_{2} = \\begin{vmatrix}\n",
    "2 & 10 & 5\\\\ \n",
    "1 & -2 & -3\\\\ \n",
    "2 & 1 & 1\n",
    "\\end{vmatrix} = 2 \\cdot \\begin{vmatrix}\n",
    "-2 & -3\\\\ \n",
    "1 & 1\n",
    "\\end{vmatrix} - 1 \\cdot \\begin{vmatrix}\n",
    "10 & 5\\\\ \n",
    "1 & 1\n",
    "\\end{vmatrix} + 2 \\cdot \\begin{vmatrix}\n",
    "10 & 5\\\\ \n",
    "-2 & -3\n",
    "\\end{vmatrix} = 2 \\cdot ((-2) \\cdot 1 - (-3) \\cdot 1) - (10 \\cdot 1 - 5 \\cdot 1) + 2 \\cdot (10 \\cdot (-3) - 5 \\cdot (-2)) = 2 - 5 - 40 = -43$  \n",
    "\n",
    "Разложение по первому столбцу:\n",
    "$detA = \\begin{vmatrix}\n",
    "2 & -1 & 10\\\\ \n",
    "1 & 1 & -2\\\\ \n",
    "2 & 4 & 1\n",
    "\\end{vmatrix} = 2 \\cdot \\begin{vmatrix}\n",
    "1 & -2\\\\ \n",
    "4 & 1\n",
    "\\end{vmatrix} - 1 \\cdot \\begin{vmatrix}\n",
    "-1 & 10\\\\ \n",
    "4 & 1\n",
    "\\end{vmatrix} + 2 \\cdot \\begin{vmatrix}\n",
    "-1 & 10\\\\ \n",
    "1 & -2\n",
    "\\end{vmatrix} = 2 \\cdot (1 \\cdot 1 - (-2) \\cdot 4) - (-1 \\cdot 1 - 10 \\cdot 4) + 2 \\cdot (-1 \\cdot (-2) - 10 \\cdot 1) = 18 + 41 - 16 = 43$  \n",
    "\n",
    "$x_{1}=\\frac{detA_{1}}{detA} = 86/43 = 2$  \n",
    "$x_{2}=\\frac{detA_{2}}{detA} = -43/43 = -1$  \n",
    "$x_{3}=\\frac{detA_{3}}{detA} = 43/43 = 1$"
   ]
  },
  {
   "cell_type": "code",
   "execution_count": 61,
   "metadata": {},
   "outputs": [],
   "source": [
    "# проверка"
   ]
  },
  {
   "cell_type": "code",
   "execution_count": 62,
   "metadata": {},
   "outputs": [
    {
     "data": {
      "text/latex": [
       "$\\displaystyle \\left[\\begin{matrix}2 & -1 & 5\\\\1 & 1 & -3\\\\2 & 4 & 1\\end{matrix}\\right]$"
      ],
      "text/plain": [
       "Matrix([\n",
       "[2, -1,  5],\n",
       "[1,  1, -3],\n",
       "[2,  4,  1]])"
      ]
     },
     "execution_count": 62,
     "metadata": {},
     "output_type": "execute_result"
    }
   ],
   "source": [
    "A = Matrix([[2, -1, 5], [1, 1, -3], [2, 4, 1]])\n",
    "A"
   ]
  },
  {
   "cell_type": "code",
   "execution_count": 63,
   "metadata": {
    "scrolled": false
   },
   "outputs": [
    {
     "data": {
      "text/latex": [
       "$\\displaystyle \\left[\\begin{matrix}10\\\\-2\\\\1\\end{matrix}\\right]$"
      ],
      "text/plain": [
       "Matrix([\n",
       "[10],\n",
       "[-2],\n",
       "[ 1]])"
      ]
     },
     "execution_count": 63,
     "metadata": {},
     "output_type": "execute_result"
    }
   ],
   "source": [
    "b = Matrix([10, -2, 1])\n",
    "b"
   ]
  },
  {
   "cell_type": "code",
   "execution_count": 64,
   "metadata": {},
   "outputs": [
    {
     "data": {
      "text/latex": [
       "$\\displaystyle \\left[\\begin{matrix}10 & -1 & 5\\\\-2 & 1 & -3\\\\1 & 4 & 1\\end{matrix}\\right]$"
      ],
      "text/plain": [
       "Matrix([\n",
       "[10, -1,  5],\n",
       "[-2,  1, -3],\n",
       "[ 1,  4,  1]])"
      ]
     },
     "execution_count": 64,
     "metadata": {},
     "output_type": "execute_result"
    }
   ],
   "source": [
    "# заменяем первый столбец\n",
    "A1 = A.copy()\n",
    "A1.col_del(0)\n",
    "A1 = A1.col_insert(0, b)\n",
    "A1"
   ]
  },
  {
   "cell_type": "code",
   "execution_count": 65,
   "metadata": {},
   "outputs": [
    {
     "data": {
      "text/latex": [
       "$\\displaystyle \\left[\\begin{matrix}2 & 10 & 5\\\\1 & -2 & -3\\\\2 & 1 & 1\\end{matrix}\\right]$"
      ],
      "text/plain": [
       "Matrix([\n",
       "[2, 10,  5],\n",
       "[1, -2, -3],\n",
       "[2,  1,  1]])"
      ]
     },
     "execution_count": 65,
     "metadata": {},
     "output_type": "execute_result"
    }
   ],
   "source": [
    "# заменяем второй столбец\n",
    "A2 = A.copy()\n",
    "A2.col_del(1)\n",
    "A2 = A2.col_insert(1, b)\n",
    "A2"
   ]
  },
  {
   "cell_type": "code",
   "execution_count": 66,
   "metadata": {},
   "outputs": [
    {
     "data": {
      "text/latex": [
       "$\\displaystyle \\left[\\begin{matrix}2 & -1 & 10\\\\1 & 1 & -2\\\\2 & 4 & 1\\end{matrix}\\right]$"
      ],
      "text/plain": [
       "Matrix([\n",
       "[2, -1, 10],\n",
       "[1,  1, -2],\n",
       "[2,  4,  1]])"
      ]
     },
     "execution_count": 66,
     "metadata": {},
     "output_type": "execute_result"
    }
   ],
   "source": [
    "# заменяем третий столбец\n",
    "A3 = A.copy()\n",
    "A3.col_del(2)\n",
    "A3 = A3.col_insert(2, b)\n",
    "A3"
   ]
  },
  {
   "cell_type": "code",
   "execution_count": 67,
   "metadata": {},
   "outputs": [
    {
     "data": {
      "text/latex": [
       "$\\displaystyle 43$"
      ],
      "text/plain": [
       "43"
      ]
     },
     "execution_count": 67,
     "metadata": {},
     "output_type": "execute_result"
    }
   ],
   "source": [
    "# определитель исходной матрицы\n",
    "detA = A.det()\n",
    "detA"
   ]
  },
  {
   "cell_type": "code",
   "execution_count": 68,
   "metadata": {},
   "outputs": [
    {
     "data": {
      "text/latex": [
       "$\\displaystyle 86$"
      ],
      "text/plain": [
       "86"
      ]
     },
     "execution_count": 68,
     "metadata": {},
     "output_type": "execute_result"
    }
   ],
   "source": [
    "# определитель матрицы с заменой первого столбца\n",
    "detA1 = A1.det()\n",
    "detA1"
   ]
  },
  {
   "cell_type": "code",
   "execution_count": 69,
   "metadata": {},
   "outputs": [
    {
     "data": {
      "text/latex": [
       "$\\displaystyle -43$"
      ],
      "text/plain": [
       "-43"
      ]
     },
     "execution_count": 69,
     "metadata": {},
     "output_type": "execute_result"
    }
   ],
   "source": [
    "# определитель матрицы с заменой второго столбца\n",
    "detA2 = A2.det()\n",
    "detA2"
   ]
  },
  {
   "cell_type": "code",
   "execution_count": 70,
   "metadata": {},
   "outputs": [
    {
     "data": {
      "text/latex": [
       "$\\displaystyle 43$"
      ],
      "text/plain": [
       "43"
      ]
     },
     "execution_count": 70,
     "metadata": {},
     "output_type": "execute_result"
    }
   ],
   "source": [
    "# определитель матрицы с заменой третьего столбца\n",
    "detA3 = A3.det()\n",
    "detA3"
   ]
  },
  {
   "cell_type": "code",
   "execution_count": 71,
   "metadata": {},
   "outputs": [
    {
     "data": {
      "text/latex": [
       "$\\displaystyle 2$"
      ],
      "text/plain": [
       "2"
      ]
     },
     "execution_count": 71,
     "metadata": {},
     "output_type": "execute_result"
    }
   ],
   "source": [
    "# первое значение\n",
    "x1 = detA1/detA\n",
    "x1"
   ]
  },
  {
   "cell_type": "code",
   "execution_count": 72,
   "metadata": {},
   "outputs": [
    {
     "data": {
      "text/latex": [
       "$\\displaystyle -1$"
      ],
      "text/plain": [
       "-1"
      ]
     },
     "execution_count": 72,
     "metadata": {},
     "output_type": "execute_result"
    }
   ],
   "source": [
    "# второе значение\n",
    "x2 = detA2/detA\n",
    "x2"
   ]
  },
  {
   "cell_type": "code",
   "execution_count": 73,
   "metadata": {},
   "outputs": [
    {
     "data": {
      "text/latex": [
       "$\\displaystyle 1$"
      ],
      "text/plain": [
       "1"
      ]
     },
     "execution_count": 73,
     "metadata": {},
     "output_type": "execute_result"
    }
   ],
   "source": [
    "# третье значение\n",
    "x3 = detA3/detA\n",
    "x3"
   ]
  },
  {
   "cell_type": "code",
   "execution_count": 74,
   "metadata": {},
   "outputs": [
    {
     "data": {
      "text/latex": [
       "$\\displaystyle \\left[\\begin{matrix}2\\\\-1\\\\1\\end{matrix}\\right]$"
      ],
      "text/plain": [
       "Matrix([\n",
       "[ 2],\n",
       "[-1],\n",
       "[ 1]])"
      ]
     },
     "execution_count": 74,
     "metadata": {},
     "output_type": "execute_result"
    }
   ],
   "source": [
    "X = Matrix([x1, x2, x3])\n",
    "X"
   ]
  },
  {
   "cell_type": "markdown",
   "metadata": {},
   "source": [
    "**__2*.__ Найти $L$-матрицу $LU$-разложения для матрицы коэффициентов:  \n",
    "а)$\\begin{pmatrix}\n",
    "1 & 2 & 4 \\\\ \n",
    "2 & 9 & 12 \\\\ \n",
    "3 & 26 & 30\n",
    "\\end{pmatrix}$**"
   ]
  },
  {
   "cell_type": "markdown",
   "metadata": {},
   "source": [
    "Формулы нахождения элементов матриц $U$ и $L$:\n",
    "\n",
    "$$u_{1j}=a_{1j},$$\n",
    "$$l_{j1}=\\frac{a_{j1}}{u_{11}}, \\; u_{11}\\neq0, \\; j = 1,...,n.$$\n",
    "\n",
    "Для $i = 2,...,n$:\n",
    "\n",
    "$$u_{ij}=a_{ij}-\\sum_{k=1}^{i-1}l_{ik}u_{kj},$$\n",
    "$$l_{ji}=\\frac{1}{u_{ii}}(a_{ji}-\\sum_{k=1}^{i-1}l_{jk}u_{ki}),\\; j = i,...,n.$$"
   ]
  },
  {
   "cell_type": "code",
   "execution_count": 75,
   "metadata": {},
   "outputs": [],
   "source": [
    "a_11 = 1.\n",
    "a_21 = 2.\n",
    "a_31 = 3.\n",
    "a_12 = 2.\n",
    "a_22 = 9.\n",
    "a_32 = 26.\n",
    "a_13 = 4.\n",
    "a_23 = 12.\n",
    "a_33 = 30."
   ]
  },
  {
   "cell_type": "code",
   "execution_count": 76,
   "metadata": {},
   "outputs": [
    {
     "data": {
      "text/plain": [
       "1.0"
      ]
     },
     "execution_count": 76,
     "metadata": {},
     "output_type": "execute_result"
    }
   ],
   "source": [
    "u_11 = a_11\n",
    "u_11"
   ]
  },
  {
   "cell_type": "code",
   "execution_count": 77,
   "metadata": {},
   "outputs": [
    {
     "data": {
      "text/plain": [
       "2.0"
      ]
     },
     "execution_count": 77,
     "metadata": {},
     "output_type": "execute_result"
    }
   ],
   "source": [
    "u_12 = a_12\n",
    "u_12"
   ]
  },
  {
   "cell_type": "code",
   "execution_count": 78,
   "metadata": {},
   "outputs": [
    {
     "data": {
      "text/plain": [
       "4.0"
      ]
     },
     "execution_count": 78,
     "metadata": {},
     "output_type": "execute_result"
    }
   ],
   "source": [
    "u_13 = a_13\n",
    "u_13"
   ]
  },
  {
   "cell_type": "code",
   "execution_count": 79,
   "metadata": {},
   "outputs": [
    {
     "data": {
      "text/plain": [
       "1.0"
      ]
     },
     "execution_count": 79,
     "metadata": {},
     "output_type": "execute_result"
    }
   ],
   "source": [
    "l_11 = a_11/u_11\n",
    "l_11"
   ]
  },
  {
   "cell_type": "code",
   "execution_count": 80,
   "metadata": {},
   "outputs": [
    {
     "data": {
      "text/plain": [
       "2.0"
      ]
     },
     "execution_count": 80,
     "metadata": {},
     "output_type": "execute_result"
    }
   ],
   "source": [
    "l_21 = a_21/u_11\n",
    "l_21"
   ]
  },
  {
   "cell_type": "code",
   "execution_count": 81,
   "metadata": {},
   "outputs": [
    {
     "data": {
      "text/plain": [
       "3.0"
      ]
     },
     "execution_count": 81,
     "metadata": {},
     "output_type": "execute_result"
    }
   ],
   "source": [
    "l_31 = a_31/u_11\n",
    "l_31"
   ]
  },
  {
   "cell_type": "code",
   "execution_count": 82,
   "metadata": {},
   "outputs": [
    {
     "data": {
      "text/plain": [
       "5.0"
      ]
     },
     "execution_count": 82,
     "metadata": {},
     "output_type": "execute_result"
    }
   ],
   "source": [
    "u_22 = a_22 - l_21 * u_12\n",
    "u_22"
   ]
  },
  {
   "cell_type": "code",
   "execution_count": 83,
   "metadata": {},
   "outputs": [
    {
     "data": {
      "text/plain": [
       "1.0"
      ]
     },
     "execution_count": 83,
     "metadata": {},
     "output_type": "execute_result"
    }
   ],
   "source": [
    "l_22 = (1/u_22)*(a_22 - l_21*u_12)\n",
    "l_22"
   ]
  },
  {
   "cell_type": "code",
   "execution_count": 84,
   "metadata": {},
   "outputs": [
    {
     "data": {
      "text/plain": [
       "4.0"
      ]
     },
     "execution_count": 84,
     "metadata": {},
     "output_type": "execute_result"
    }
   ],
   "source": [
    "u_23 = a_23 - l_21*u_13\n",
    "u_23"
   ]
  },
  {
   "cell_type": "code",
   "execution_count": 85,
   "metadata": {},
   "outputs": [
    {
     "data": {
      "text/plain": [
       "4.0"
      ]
     },
     "execution_count": 85,
     "metadata": {},
     "output_type": "execute_result"
    }
   ],
   "source": [
    "l_32 = (1/u_22)*(a_32 - l_31*u_12)\n",
    "l_32"
   ]
  },
  {
   "cell_type": "code",
   "execution_count": 86,
   "metadata": {},
   "outputs": [
    {
     "data": {
      "text/plain": [
       "2.0"
      ]
     },
     "execution_count": 86,
     "metadata": {},
     "output_type": "execute_result"
    }
   ],
   "source": [
    "u_33 = a_33 - l_31*u_13 - l_32*u_23\n",
    "u_33"
   ]
  },
  {
   "cell_type": "code",
   "execution_count": 87,
   "metadata": {},
   "outputs": [
    {
     "data": {
      "text/plain": [
       "1.0"
      ]
     },
     "execution_count": 87,
     "metadata": {},
     "output_type": "execute_result"
    }
   ],
   "source": [
    "l_33 = (1/u_33)*(a_33 - l_31*u_13 - l_32*u_23)\n",
    "l_33"
   ]
  },
  {
   "cell_type": "code",
   "execution_count": 88,
   "metadata": {},
   "outputs": [
    {
     "data": {
      "text/latex": [
       "$\\displaystyle \\left[\\begin{matrix}1.0 & 0 & 0\\\\2.0 & 1.0 & 0\\\\3.0 & 4.0 & 1.0\\end{matrix}\\right]$"
      ],
      "text/plain": [
       "Matrix([\n",
       "[1.0,   0,   0],\n",
       "[2.0, 1.0,   0],\n",
       "[3.0, 4.0, 1.0]])"
      ]
     },
     "execution_count": 88,
     "metadata": {},
     "output_type": "execute_result"
    }
   ],
   "source": [
    "L = Matrix([[l_11, 0, 0], [l_21, l_22, 0], [l_31, l_32, l_33]])\n",
    "L"
   ]
  },
  {
   "cell_type": "code",
   "execution_count": 89,
   "metadata": {},
   "outputs": [
    {
     "data": {
      "text/latex": [
       "$\\displaystyle \\left[\\begin{matrix}1.0 & 2.0 & 4.0\\\\0 & 5.0 & 4.0\\\\0 & 0 & 2.0\\end{matrix}\\right]$"
      ],
      "text/plain": [
       "Matrix([\n",
       "[1.0, 2.0, 4.0],\n",
       "[  0, 5.0, 4.0],\n",
       "[  0,   0, 2.0]])"
      ]
     },
     "execution_count": 89,
     "metadata": {},
     "output_type": "execute_result"
    }
   ],
   "source": [
    "U = Matrix([[u_11, u_12, u_13], [0, u_22, u_23], [0, 0, u_33]])\n",
    "U"
   ]
  },
  {
   "cell_type": "code",
   "execution_count": 90,
   "metadata": {
    "scrolled": false
   },
   "outputs": [
    {
     "data": {
      "text/latex": [
       "$\\displaystyle \\left[\\begin{matrix}1.0 & 2.0 & 4.0\\\\2.0 & 9.0 & 12.0\\\\3.0 & 26.0 & 30.0\\end{matrix}\\right]$"
      ],
      "text/plain": [
       "Matrix([\n",
       "[1.0,  2.0,  4.0],\n",
       "[2.0,  9.0, 12.0],\n",
       "[3.0, 26.0, 30.0]])"
      ]
     },
     "execution_count": 90,
     "metadata": {},
     "output_type": "execute_result"
    }
   ],
   "source": [
    "L*U"
   ]
  },
  {
   "cell_type": "code",
   "execution_count": 91,
   "metadata": {
    "scrolled": false
   },
   "outputs": [
    {
     "data": {
      "text/latex": [
       "$\\displaystyle \\left[\\begin{matrix}1.0 & 0 & 0\\\\2.0 & 1.0 & 0\\\\3.0 & 4.0 & 1.0\\end{matrix}\\right]$"
      ],
      "text/plain": [
       "Matrix([\n",
       "[1.0,   0,   0],\n",
       "[2.0, 1.0,   0],\n",
       "[3.0, 4.0, 1.0]])"
      ]
     },
     "execution_count": 91,
     "metadata": {},
     "output_type": "execute_result"
    }
   ],
   "source": [
    "# Необходимая по условию матрица L\n",
    "L"
   ]
  },
  {
   "cell_type": "markdown",
   "metadata": {},
   "source": [
    "**__2*.__ Найти $L$-матрицу $LU$-разложения для матрицы коэффициентов:  \n",
    "б)$\\begin{pmatrix}\n",
    "1 & 1 & 2 & 4\\\\ \n",
    "2 & 5 & 8 & 9\\\\ \n",
    "3 & 18 & 29 & 18\\\\\n",
    "4 & 22 & 53 & 33\n",
    "\\end{pmatrix}$**"
   ]
  },
  {
   "cell_type": "code",
   "execution_count": 92,
   "metadata": {},
   "outputs": [],
   "source": [
    "a_11 = 1.\n",
    "a_21 = 2.\n",
    "a_31 = 3.\n",
    "a_41 = 4.\n",
    "a_12 = 1.\n",
    "a_22 = 5.\n",
    "a_32 = 18.\n",
    "a_42 = 22.\n",
    "a_13 = 2.\n",
    "a_23 = 8.\n",
    "a_33 = 29.\n",
    "a_43 = 53.\n",
    "a_14 = 4.\n",
    "a_24 = 9.\n",
    "a_34 = 18.\n",
    "a_44 = 33."
   ]
  },
  {
   "cell_type": "code",
   "execution_count": 93,
   "metadata": {},
   "outputs": [
    {
     "data": {
      "text/plain": [
       "1.0"
      ]
     },
     "execution_count": 93,
     "metadata": {},
     "output_type": "execute_result"
    }
   ],
   "source": [
    "u_11 = a_11\n",
    "u_11"
   ]
  },
  {
   "cell_type": "code",
   "execution_count": 94,
   "metadata": {},
   "outputs": [
    {
     "data": {
      "text/plain": [
       "1.0"
      ]
     },
     "execution_count": 94,
     "metadata": {},
     "output_type": "execute_result"
    }
   ],
   "source": [
    "u_12 = a_12\n",
    "u_12"
   ]
  },
  {
   "cell_type": "code",
   "execution_count": 95,
   "metadata": {},
   "outputs": [
    {
     "data": {
      "text/plain": [
       "2.0"
      ]
     },
     "execution_count": 95,
     "metadata": {},
     "output_type": "execute_result"
    }
   ],
   "source": [
    "u_13 = a_13\n",
    "u_13"
   ]
  },
  {
   "cell_type": "code",
   "execution_count": 96,
   "metadata": {},
   "outputs": [
    {
     "data": {
      "text/plain": [
       "4.0"
      ]
     },
     "execution_count": 96,
     "metadata": {},
     "output_type": "execute_result"
    }
   ],
   "source": [
    "u_14 = a_14\n",
    "u_14"
   ]
  },
  {
   "cell_type": "code",
   "execution_count": 97,
   "metadata": {},
   "outputs": [
    {
     "data": {
      "text/plain": [
       "1.0"
      ]
     },
     "execution_count": 97,
     "metadata": {},
     "output_type": "execute_result"
    }
   ],
   "source": [
    "l_11 = a_11/u_11\n",
    "l_11"
   ]
  },
  {
   "cell_type": "code",
   "execution_count": 98,
   "metadata": {},
   "outputs": [
    {
     "data": {
      "text/plain": [
       "2.0"
      ]
     },
     "execution_count": 98,
     "metadata": {},
     "output_type": "execute_result"
    }
   ],
   "source": [
    "l_21 = a_21/u_11\n",
    "l_21"
   ]
  },
  {
   "cell_type": "code",
   "execution_count": 99,
   "metadata": {},
   "outputs": [
    {
     "data": {
      "text/plain": [
       "3.0"
      ]
     },
     "execution_count": 99,
     "metadata": {},
     "output_type": "execute_result"
    }
   ],
   "source": [
    "l_31 = a_31/u_11\n",
    "l_31"
   ]
  },
  {
   "cell_type": "code",
   "execution_count": 100,
   "metadata": {},
   "outputs": [
    {
     "data": {
      "text/plain": [
       "4.0"
      ]
     },
     "execution_count": 100,
     "metadata": {},
     "output_type": "execute_result"
    }
   ],
   "source": [
    "l_41 = a_41/u_11\n",
    "l_41"
   ]
  },
  {
   "cell_type": "code",
   "execution_count": 101,
   "metadata": {},
   "outputs": [
    {
     "data": {
      "text/plain": [
       "3.0"
      ]
     },
     "execution_count": 101,
     "metadata": {},
     "output_type": "execute_result"
    }
   ],
   "source": [
    "u_22 = a_22 - l_21 * u_12\n",
    "u_22"
   ]
  },
  {
   "cell_type": "code",
   "execution_count": 102,
   "metadata": {},
   "outputs": [
    {
     "data": {
      "text/plain": [
       "1.0"
      ]
     },
     "execution_count": 102,
     "metadata": {},
     "output_type": "execute_result"
    }
   ],
   "source": [
    "l_22 = (1/u_22)*(a_22 - l_21*u_12)\n",
    "l_22"
   ]
  },
  {
   "cell_type": "code",
   "execution_count": 103,
   "metadata": {},
   "outputs": [
    {
     "data": {
      "text/plain": [
       "4.0"
      ]
     },
     "execution_count": 103,
     "metadata": {},
     "output_type": "execute_result"
    }
   ],
   "source": [
    "u_23 = a_23 - l_21*u_13\n",
    "u_23"
   ]
  },
  {
   "cell_type": "code",
   "execution_count": 104,
   "metadata": {},
   "outputs": [
    {
     "data": {
      "text/plain": [
       "5.0"
      ]
     },
     "execution_count": 104,
     "metadata": {},
     "output_type": "execute_result"
    }
   ],
   "source": [
    "l_32 = (1/u_22)*(a_32 - l_31*u_12)\n",
    "l_32"
   ]
  },
  {
   "cell_type": "code",
   "execution_count": 105,
   "metadata": {},
   "outputs": [
    {
     "data": {
      "text/plain": [
       "3.0"
      ]
     },
     "execution_count": 105,
     "metadata": {},
     "output_type": "execute_result"
    }
   ],
   "source": [
    "u_33 = a_33 - l_31*u_13 - l_32*u_23\n",
    "u_33"
   ]
  },
  {
   "cell_type": "code",
   "execution_count": 106,
   "metadata": {},
   "outputs": [
    {
     "data": {
      "text/plain": [
       "1.0"
      ]
     },
     "execution_count": 106,
     "metadata": {},
     "output_type": "execute_result"
    }
   ],
   "source": [
    "l_33 = (1/u_33)*(a_33 - l_31*u_13 - l_32*u_23)\n",
    "l_33"
   ]
  },
  {
   "cell_type": "code",
   "execution_count": 107,
   "metadata": {},
   "outputs": [
    {
     "data": {
      "text/plain": [
       "1.0"
      ]
     },
     "execution_count": 107,
     "metadata": {},
     "output_type": "execute_result"
    }
   ],
   "source": [
    "u_24 = a_24 - l_21*u_14\n",
    "u_24"
   ]
  },
  {
   "cell_type": "code",
   "execution_count": 108,
   "metadata": {},
   "outputs": [
    {
     "data": {
      "text/plain": [
       "6.0"
      ]
     },
     "execution_count": 108,
     "metadata": {},
     "output_type": "execute_result"
    }
   ],
   "source": [
    "l_42 = (1/u_22)*(a_42 - l_41*u_12)\n",
    "l_42"
   ]
  },
  {
   "cell_type": "code",
   "execution_count": 109,
   "metadata": {},
   "outputs": [
    {
     "data": {
      "text/plain": [
       "1.0"
      ]
     },
     "execution_count": 109,
     "metadata": {},
     "output_type": "execute_result"
    }
   ],
   "source": [
    "u_34 = a_34 - l_31*u_14 - l_32*u_24\n",
    "u_34"
   ]
  },
  {
   "cell_type": "code",
   "execution_count": 110,
   "metadata": {},
   "outputs": [
    {
     "data": {
      "text/plain": [
       "7.0"
      ]
     },
     "execution_count": 110,
     "metadata": {},
     "output_type": "execute_result"
    }
   ],
   "source": [
    "l_43 = (1/u_33)*(a_43 - l_41*u_13 - l_42*u_23)\n",
    "l_43"
   ]
  },
  {
   "cell_type": "code",
   "execution_count": 111,
   "metadata": {},
   "outputs": [
    {
     "data": {
      "text/plain": [
       "4.0"
      ]
     },
     "execution_count": 111,
     "metadata": {},
     "output_type": "execute_result"
    }
   ],
   "source": [
    "u_44 = a_44 - l_41*u_14 - l_42*u_24 - l_43*u_34\n",
    "u_44"
   ]
  },
  {
   "cell_type": "code",
   "execution_count": 112,
   "metadata": {},
   "outputs": [
    {
     "data": {
      "text/plain": [
       "1.0"
      ]
     },
     "execution_count": 112,
     "metadata": {},
     "output_type": "execute_result"
    }
   ],
   "source": [
    "l_44 = (1/u_44)*(a_44 - l_41*u_14 - l_42*u_24 - l_43*u_34)\n",
    "l_44"
   ]
  },
  {
   "cell_type": "code",
   "execution_count": 113,
   "metadata": {},
   "outputs": [
    {
     "data": {
      "text/latex": [
       "$\\displaystyle \\left[\\begin{matrix}1.0 & 0 & 0 & 0\\\\2.0 & 1.0 & 0 & 0\\\\3.0 & 5.0 & 1.0 & 0\\\\4.0 & 6.0 & 7.0 & 1.0\\end{matrix}\\right]$"
      ],
      "text/plain": [
       "Matrix([\n",
       "[1.0,   0,   0,   0],\n",
       "[2.0, 1.0,   0,   0],\n",
       "[3.0, 5.0, 1.0,   0],\n",
       "[4.0, 6.0, 7.0, 1.0]])"
      ]
     },
     "execution_count": 113,
     "metadata": {},
     "output_type": "execute_result"
    }
   ],
   "source": [
    "L = Matrix([[l_11, 0, 0, 0], [l_21, l_22, 0, 0], [l_31, l_32, l_33, 0], [l_41, l_42, l_43, l_44]])\n",
    "L"
   ]
  },
  {
   "cell_type": "code",
   "execution_count": 114,
   "metadata": {},
   "outputs": [
    {
     "data": {
      "text/latex": [
       "$\\displaystyle \\left[\\begin{matrix}1.0 & 1.0 & 2.0 & 4.0\\\\0 & 3.0 & 4.0 & 1.0\\\\0 & 0 & 3.0 & 1.0\\\\0 & 0 & 0 & 4.0\\end{matrix}\\right]$"
      ],
      "text/plain": [
       "Matrix([\n",
       "[1.0, 1.0, 2.0, 4.0],\n",
       "[  0, 3.0, 4.0, 1.0],\n",
       "[  0,   0, 3.0, 1.0],\n",
       "[  0,   0,   0, 4.0]])"
      ]
     },
     "execution_count": 114,
     "metadata": {},
     "output_type": "execute_result"
    }
   ],
   "source": [
    "U = Matrix([[u_11, u_12, u_13, u_14], [0, u_22, u_23, u_24], [0, 0, u_33, u_34], [0, 0, 0, u_44]])\n",
    "U"
   ]
  },
  {
   "cell_type": "code",
   "execution_count": 115,
   "metadata": {
    "scrolled": true
   },
   "outputs": [
    {
     "data": {
      "text/latex": [
       "$\\displaystyle \\left[\\begin{matrix}1.0 & 1.0 & 2.0 & 4.0\\\\2.0 & 5.0 & 8.0 & 9.0\\\\3.0 & 18.0 & 29.0 & 18.0\\\\4.0 & 22.0 & 53.0 & 33.0\\end{matrix}\\right]$"
      ],
      "text/plain": [
       "Matrix([\n",
       "[1.0,  1.0,  2.0,  4.0],\n",
       "[2.0,  5.0,  8.0,  9.0],\n",
       "[3.0, 18.0, 29.0, 18.0],\n",
       "[4.0, 22.0, 53.0, 33.0]])"
      ]
     },
     "execution_count": 115,
     "metadata": {},
     "output_type": "execute_result"
    }
   ],
   "source": [
    "L*U"
   ]
  },
  {
   "cell_type": "code",
   "execution_count": 116,
   "metadata": {
    "scrolled": true
   },
   "outputs": [
    {
     "data": {
      "text/latex": [
       "$\\displaystyle \\left[\\begin{matrix}1.0 & 0 & 0 & 0\\\\2.0 & 1.0 & 0 & 0\\\\3.0 & 5.0 & 1.0 & 0\\\\4.0 & 6.0 & 7.0 & 1.0\\end{matrix}\\right]$"
      ],
      "text/plain": [
       "Matrix([\n",
       "[1.0,   0,   0,   0],\n",
       "[2.0, 1.0,   0,   0],\n",
       "[3.0, 5.0, 1.0,   0],\n",
       "[4.0, 6.0, 7.0, 1.0]])"
      ]
     },
     "execution_count": 116,
     "metadata": {},
     "output_type": "execute_result"
    }
   ],
   "source": [
    "# Необходимая по условию матрица L\n",
    "L"
   ]
  },
  {
   "cell_type": "markdown",
   "metadata": {},
   "source": [
    "**__3*.__ Решить систему линейных уравнений методом $LU$-разложения $\\begin{cases}\n",
    "2x_{1}+x_{2}+3x_{3}=1 \\\\\n",
    "11x_{1}+7x_{2}+5x_{3}=-6 \\\\\n",
    "9x_{1}+8x_{2}+4x_{3}=-5\n",
    "\\end{cases}$**"
   ]
  },
  {
   "cell_type": "code",
   "execution_count": 117,
   "metadata": {
    "scrolled": true
   },
   "outputs": [
    {
     "data": {
      "text/latex": [
       "$\\displaystyle \\left[\\begin{matrix}2 & 1 & 3\\\\11 & 7 & 5\\\\9 & 8 & 4\\end{matrix}\\right]$"
      ],
      "text/plain": [
       "Matrix([\n",
       "[ 2, 1, 3],\n",
       "[11, 7, 5],\n",
       "[ 9, 8, 4]])"
      ]
     },
     "execution_count": 117,
     "metadata": {},
     "output_type": "execute_result"
    }
   ],
   "source": [
    "# исходная матрица\n",
    "A = Matrix([[2, 1, 3], [11, 7, 5], [9, 8, 4]])\n",
    "A"
   ]
  },
  {
   "cell_type": "code",
   "execution_count": 118,
   "metadata": {},
   "outputs": [
    {
     "data": {
      "text/plain": [
       "array([ 1, -6, -5])"
      ]
     },
     "execution_count": 118,
     "metadata": {},
     "output_type": "execute_result"
    }
   ],
   "source": [
    "b = np.array([1, -6, -5])\n",
    "b"
   ]
  },
  {
   "cell_type": "code",
   "execution_count": 119,
   "metadata": {},
   "outputs": [],
   "source": [
    "a_11 = 2.\n",
    "a_21 = 11.\n",
    "a_31 = 9.\n",
    "a_12 = 1.\n",
    "a_22 = 7.\n",
    "a_32 = 8.\n",
    "a_13 = 3.\n",
    "a_23 = 5.\n",
    "a_33 = 4."
   ]
  },
  {
   "cell_type": "code",
   "execution_count": 120,
   "metadata": {},
   "outputs": [
    {
     "data": {
      "text/plain": [
       "2.0"
      ]
     },
     "execution_count": 120,
     "metadata": {},
     "output_type": "execute_result"
    }
   ],
   "source": [
    "u_11 = a_11\n",
    "u_11"
   ]
  },
  {
   "cell_type": "code",
   "execution_count": 121,
   "metadata": {},
   "outputs": [
    {
     "data": {
      "text/plain": [
       "1.0"
      ]
     },
     "execution_count": 121,
     "metadata": {},
     "output_type": "execute_result"
    }
   ],
   "source": [
    "u_12 = a_12\n",
    "u_12"
   ]
  },
  {
   "cell_type": "code",
   "execution_count": 122,
   "metadata": {},
   "outputs": [
    {
     "data": {
      "text/plain": [
       "3.0"
      ]
     },
     "execution_count": 122,
     "metadata": {},
     "output_type": "execute_result"
    }
   ],
   "source": [
    "u_13 = a_13\n",
    "u_13"
   ]
  },
  {
   "cell_type": "code",
   "execution_count": 123,
   "metadata": {},
   "outputs": [
    {
     "data": {
      "text/plain": [
       "1.0"
      ]
     },
     "execution_count": 123,
     "metadata": {},
     "output_type": "execute_result"
    }
   ],
   "source": [
    "l_11 = a_11/u_11\n",
    "l_11"
   ]
  },
  {
   "cell_type": "code",
   "execution_count": 124,
   "metadata": {},
   "outputs": [
    {
     "data": {
      "text/plain": [
       "5.5"
      ]
     },
     "execution_count": 124,
     "metadata": {},
     "output_type": "execute_result"
    }
   ],
   "source": [
    "l_21 = a_21/u_11\n",
    "l_21"
   ]
  },
  {
   "cell_type": "code",
   "execution_count": 125,
   "metadata": {},
   "outputs": [
    {
     "data": {
      "text/plain": [
       "4.5"
      ]
     },
     "execution_count": 125,
     "metadata": {},
     "output_type": "execute_result"
    }
   ],
   "source": [
    "l_31 = a_31/u_11\n",
    "l_31"
   ]
  },
  {
   "cell_type": "code",
   "execution_count": 126,
   "metadata": {},
   "outputs": [
    {
     "data": {
      "text/plain": [
       "1.5"
      ]
     },
     "execution_count": 126,
     "metadata": {},
     "output_type": "execute_result"
    }
   ],
   "source": [
    "u_22 = a_22 - l_21 * u_12\n",
    "u_22"
   ]
  },
  {
   "cell_type": "code",
   "execution_count": 127,
   "metadata": {},
   "outputs": [
    {
     "data": {
      "text/plain": [
       "1.0"
      ]
     },
     "execution_count": 127,
     "metadata": {},
     "output_type": "execute_result"
    }
   ],
   "source": [
    "l_22 = (1/u_22)*(a_22 - l_21*u_12)\n",
    "l_22"
   ]
  },
  {
   "cell_type": "code",
   "execution_count": 128,
   "metadata": {},
   "outputs": [
    {
     "data": {
      "text/plain": [
       "-11.5"
      ]
     },
     "execution_count": 128,
     "metadata": {},
     "output_type": "execute_result"
    }
   ],
   "source": [
    "u_23 = a_23 - l_21*u_13\n",
    "u_23"
   ]
  },
  {
   "cell_type": "code",
   "execution_count": 129,
   "metadata": {},
   "outputs": [
    {
     "data": {
      "text/plain": [
       "2.333333333333333"
      ]
     },
     "execution_count": 129,
     "metadata": {},
     "output_type": "execute_result"
    }
   ],
   "source": [
    "l_32 = (1/u_22)*(a_32 - l_31*u_12)\n",
    "l_32"
   ]
  },
  {
   "cell_type": "code",
   "execution_count": 130,
   "metadata": {},
   "outputs": [
    {
     "data": {
      "text/plain": [
       "17.33333333333333"
      ]
     },
     "execution_count": 130,
     "metadata": {},
     "output_type": "execute_result"
    }
   ],
   "source": [
    "u_33 = a_33 - l_31*u_13 - l_32*u_23\n",
    "u_33"
   ]
  },
  {
   "cell_type": "code",
   "execution_count": 131,
   "metadata": {},
   "outputs": [
    {
     "data": {
      "text/plain": [
       "1.0"
      ]
     },
     "execution_count": 131,
     "metadata": {},
     "output_type": "execute_result"
    }
   ],
   "source": [
    "l_33 = (1/u_33)*(a_33 - l_31*u_13 - l_32*u_23)\n",
    "l_33"
   ]
  },
  {
   "cell_type": "code",
   "execution_count": 132,
   "metadata": {},
   "outputs": [
    {
     "data": {
      "text/plain": [
       "array([[1.        , 0.        , 0.        ],\n",
       "       [5.5       , 1.        , 0.        ],\n",
       "       [4.5       , 2.33333333, 1.        ]])"
      ]
     },
     "execution_count": 132,
     "metadata": {},
     "output_type": "execute_result"
    }
   ],
   "source": [
    "L = np.array([[l_11, 0, 0], [l_21, l_22, 0], [l_31, l_32, l_33]])\n",
    "L"
   ]
  },
  {
   "cell_type": "code",
   "execution_count": 133,
   "metadata": {},
   "outputs": [
    {
     "data": {
      "text/plain": [
       "array([[  2.        ,   1.        ,   3.        ],\n",
       "       [  0.        ,   1.5       , -11.5       ],\n",
       "       [  0.        ,   0.        ,  17.33333333]])"
      ]
     },
     "execution_count": 133,
     "metadata": {},
     "output_type": "execute_result"
    }
   ],
   "source": [
    "U = np.array([[u_11, u_12, u_13], [0, u_22, u_23], [0, 0, u_33]])\n",
    "U"
   ]
  },
  {
   "cell_type": "code",
   "execution_count": 134,
   "metadata": {
    "scrolled": true
   },
   "outputs": [
    {
     "data": {
      "text/plain": [
       "array([[ 2.,  1.,  3.],\n",
       "       [11.,  7.,  5.],\n",
       "       [ 9.,  8.,  4.]])"
      ]
     },
     "execution_count": 134,
     "metadata": {},
     "output_type": "execute_result"
    }
   ],
   "source": [
    "L.dot(U)"
   ]
  },
  {
   "cell_type": "code",
   "execution_count": 135,
   "metadata": {},
   "outputs": [
    {
     "data": {
      "text/plain": [
       "array([[1.        , 0.        , 0.        ],\n",
       "       [5.5       , 1.        , 0.        ],\n",
       "       [4.5       , 2.33333333, 1.        ]])"
      ]
     },
     "execution_count": 135,
     "metadata": {},
     "output_type": "execute_result"
    }
   ],
   "source": [
    "# решаем систему Ly = b\n",
    "L"
   ]
  },
  {
   "cell_type": "code",
   "execution_count": 136,
   "metadata": {
    "scrolled": true
   },
   "outputs": [
    {
     "data": {
      "text/plain": [
       "array([ 1, -6, -5])"
      ]
     },
     "execution_count": 136,
     "metadata": {},
     "output_type": "execute_result"
    }
   ],
   "source": [
    "b"
   ]
  },
  {
   "cell_type": "code",
   "execution_count": 137,
   "metadata": {},
   "outputs": [
    {
     "data": {
      "text/plain": [
       "array([  1.        , -11.5       ,  17.33333333])"
      ]
     },
     "execution_count": 137,
     "metadata": {},
     "output_type": "execute_result"
    }
   ],
   "source": [
    "# y1, y2, y3\n",
    "y = np.linalg.solve(L, b)\n",
    "y"
   ]
  },
  {
   "cell_type": "code",
   "execution_count": 138,
   "metadata": {},
   "outputs": [
    {
     "data": {
      "text/plain": [
       "array([[  2.        ,   1.        ,   3.        ],\n",
       "       [  0.        ,   1.5       , -11.5       ],\n",
       "       [  0.        ,   0.        ,  17.33333333]])"
      ]
     },
     "execution_count": 138,
     "metadata": {},
     "output_type": "execute_result"
    }
   ],
   "source": [
    "# теперь решим систему Ux = y\n",
    "U"
   ]
  },
  {
   "cell_type": "code",
   "execution_count": 139,
   "metadata": {},
   "outputs": [
    {
     "data": {
      "text/plain": [
       "array([-1.,  0.,  1.])"
      ]
     },
     "execution_count": 139,
     "metadata": {},
     "output_type": "execute_result"
    }
   ],
   "source": [
    "# x1, x2, x3\n",
    "X = np.linalg.solve(U, y)\n",
    "X"
   ]
  },
  {
   "cell_type": "code",
   "execution_count": 140,
   "metadata": {},
   "outputs": [
    {
     "data": {
      "text/latex": [
       "$\\displaystyle \\left[\\begin{matrix}2 & 1 & 3\\\\11 & 7 & 5\\\\9 & 8 & 4\\end{matrix}\\right]$"
      ],
      "text/plain": [
       "Matrix([\n",
       "[ 2, 1, 3],\n",
       "[11, 7, 5],\n",
       "[ 9, 8, 4]])"
      ]
     },
     "execution_count": 140,
     "metadata": {},
     "output_type": "execute_result"
    }
   ],
   "source": [
    "A"
   ]
  },
  {
   "cell_type": "markdown",
   "metadata": {},
   "source": [
    "Подставим полученные значения переменных в исходную систему:  \n",
    "$\\begin{cases}\n",
    "2\\cdot(-1)+1\\cdot0 + 3 \\cdot1=1, \\\\\n",
    "11\\cdot(-1) + 7\\cdot0 + 5\\cdot1=-6, \\\\\n",
    "9\\cdot(-1)+8\\cdot0+4\\cdot1=5.\n",
    "\\end{cases}$  \n",
    "Найденное решение верно."
   ]
  },
  {
   "cell_type": "code",
   "execution_count": 141,
   "metadata": {},
   "outputs": [
    {
     "data": {
      "text/plain": [
       "array([[ 2,  1,  3],\n",
       "       [11,  7,  5],\n",
       "       [ 9,  8,  4]])"
      ]
     },
     "execution_count": 141,
     "metadata": {},
     "output_type": "execute_result"
    }
   ],
   "source": [
    "# проверка\n",
    "A = np.array([[2, 1, 3], [11, 7, 5], [9, 8, 4]])\n",
    "A"
   ]
  },
  {
   "cell_type": "code",
   "execution_count": 142,
   "metadata": {},
   "outputs": [
    {
     "data": {
      "text/plain": [
       "array([ 1, -6, -5])"
      ]
     },
     "execution_count": 142,
     "metadata": {},
     "output_type": "execute_result"
    }
   ],
   "source": [
    "b = np.array([1, -6, -5])\n",
    "b"
   ]
  },
  {
   "cell_type": "code",
   "execution_count": 143,
   "metadata": {
    "scrolled": true
   },
   "outputs": [
    {
     "data": {
      "text/plain": [
       "array([-1.,  0.,  1.])"
      ]
     },
     "execution_count": 143,
     "metadata": {},
     "output_type": "execute_result"
    }
   ],
   "source": [
    "np.linalg.solve(A, b)"
   ]
  },
  {
   "cell_type": "markdown",
   "metadata": {},
   "source": [
    "**__4*.__ Решить систему линейных уравнений методом Холецкого $\\begin{cases}\n",
    "81x_{1}-45x_{2}+45x_{3}=531 \\\\\n",
    "-45x_{1}+50x_{2}-15x_{3}=-460 \\\\\n",
    "45x_{1}-15x_{2}+38x_{3}=193\n",
    "\\end{cases}$**"
   ]
  },
  {
   "cell_type": "markdown",
   "metadata": {},
   "source": [
    "$\\begin{pmatrix}\n",
    "a_{11} & a_{12} & a_{13}\\\\ \n",
    "a_{21} & a_{22} & a_{23}\\\\ \n",
    "a_{31} & a_{32} & a_{33}\\\\ \n",
    "\\end{pmatrix}\n",
    "\\begin{pmatrix}\n",
    "x_{1}\\\\ \n",
    "x_{2}\\\\ \n",
    "x_{3}\\\\ \n",
    "\\end{pmatrix}=\n",
    "\\begin{pmatrix}\n",
    "b_{1}\\\\ \n",
    "b_{2}\\\\ \n",
    "b_{3}\\\\ \n",
    "\\end{pmatrix}.$\n",
    "\n",
    "$A = \\begin{pmatrix}\n",
    "81 & -45 & 45\\\\ \n",
    "-45 & 50 & -15\\\\ \n",
    "45 & -15 & 38\\\\ \n",
    "\\end{pmatrix}$\n",
    "\n",
    "\n",
    "Произведем разложение на $LL^{T}$:\n",
    "\n",
    "$l_{11}=\\sqrt{a_{11}}=\\sqrt{81} = 9,$  \n",
    "$l_{21}=\\frac{a_{21}}{l_{11}}=\\frac{-45}{9} = -5,$  \n",
    "$l_{31}=\\frac{a_{31}}{l_{11}}=\\frac{45}{9} = 5,$  \n",
    "$l_{22}=\\sqrt{a_{22}-l_{21}^{2}}=\\sqrt{50 - 5^{2}}=\\sqrt{50 - 25} = 5,$  \n",
    "$l_{32}=\\frac{1}{l_{22}}\\left ( a_{32}-l_{21}l_{31} \\right)=\\frac{1}{5}\\left ( -15 - (-5)\\cdot 5 \\right )=\\frac{-15 + 25}{5} = 10/5 = 2,$  \n",
    "$l_{33}=\\sqrt{a_{33}-l_{31}^{2}-l_{32}^{2}}=\\sqrt{38 - 25 - 4}=3.$  \n",
    "\n",
    "Получили матрицу:  \n",
    "\n",
    "$L = \\begin{pmatrix}\n",
    "9 & 0 & 0\\\\ \n",
    "-5 & 5 & 0\\\\ \n",
    "5 & 2 & 3\\\\ \n",
    "\\end{pmatrix}, \n",
    "\\; \\; \n",
    "L^{T} = \\begin{pmatrix}\n",
    "9 & -5 & 5\\\\ \n",
    "0 & 5 & 2\\\\ \n",
    "0 & 0 & 3\\\\ \n",
    "\\end{pmatrix}.$\n",
    "\n",
    "$b = \\begin{pmatrix}\n",
    "531\\\\ \n",
    "-460\\\\\n",
    "193\n",
    "\\end{pmatrix}$  \n",
    "\n",
    "Решим систему $Ly=b:$  \n",
    "\n",
    "$\\begin{cases}\n",
    "9y_{1}=531, \\\\\n",
    "-5y_{1}+5y_{2}=-460, \\\\\n",
    "5y_{1}+2y_{2}+3y_{3}=193.\n",
    "\\end{cases}$  \n",
    "\n",
    "$y_{1} = 59,$  \n",
    "\n",
    "$y_{2}=\\frac{-460 + 5\\cdot59}{5}=-33,$  \n",
    "\n",
    "$y_{3}=\\frac{193 - 5 \\cdot 59 + 2 \\cdot 33}{3}=-12$  \n",
    "\n",
    "Решим систему $L^{T}x=y:$\n",
    "\n",
    "$\\begin{cases}\n",
    "9x_{1}-5x_{2}+5x_{3}=59, \\\\\n",
    "5x_{2}+2x_{3}=-33, \\\\\n",
    "3x_{3}=-12.\n",
    "\\end{cases}$  \n",
    "\n",
    "$x_{3}=-4,$  \n",
    "\n",
    "$x_{2}=\\frac{-33 + 2\\cdot4}{5} = -5,$  \n",
    "\n",
    "$x_{1}=\\frac{59 - 5 * 5 + 5 * 4}{9}=\\frac{54}{9}=6.$  "
   ]
  },
  {
   "cell_type": "code",
   "execution_count": 144,
   "metadata": {},
   "outputs": [],
   "source": [
    "# проверка"
   ]
  },
  {
   "cell_type": "code",
   "execution_count": 145,
   "metadata": {},
   "outputs": [
    {
     "data": {
      "text/latex": [
       "$\\displaystyle \\left[\\begin{matrix}9 & 0 & 0\\\\-5 & 5 & 0\\\\5 & 2 & 3\\end{matrix}\\right]$"
      ],
      "text/plain": [
       "Matrix([\n",
       "[ 9, 0, 0],\n",
       "[-5, 5, 0],\n",
       "[ 5, 2, 3]])"
      ]
     },
     "execution_count": 145,
     "metadata": {},
     "output_type": "execute_result"
    }
   ],
   "source": [
    "L = Matrix([[9, 0, 0], [-5, 5, 0], [5, 2, 3]])\n",
    "L"
   ]
  },
  {
   "cell_type": "code",
   "execution_count": 146,
   "metadata": {},
   "outputs": [
    {
     "data": {
      "text/latex": [
       "$\\displaystyle \\left[\\begin{matrix}9 & -5 & 5\\\\0 & 5 & 2\\\\0 & 0 & 3\\end{matrix}\\right]$"
      ],
      "text/plain": [
       "Matrix([\n",
       "[9, -5, 5],\n",
       "[0,  5, 2],\n",
       "[0,  0, 3]])"
      ]
     },
     "execution_count": 146,
     "metadata": {},
     "output_type": "execute_result"
    }
   ],
   "source": [
    "L.T"
   ]
  },
  {
   "cell_type": "code",
   "execution_count": 147,
   "metadata": {},
   "outputs": [
    {
     "data": {
      "text/plain": [
       "array([[ 81, -45,  45],\n",
       "       [-45,  50, -15],\n",
       "       [ 45, -15,  38]])"
      ]
     },
     "execution_count": 147,
     "metadata": {},
     "output_type": "execute_result"
    }
   ],
   "source": [
    "A = np.array([[81, -45, 45], [-45, 50, -15],[45, -15, 38]])\n",
    "A"
   ]
  },
  {
   "cell_type": "code",
   "execution_count": 148,
   "metadata": {},
   "outputs": [
    {
     "data": {
      "text/plain": [
       "array([ 531, -460,  193])"
      ]
     },
     "execution_count": 148,
     "metadata": {},
     "output_type": "execute_result"
    }
   ],
   "source": [
    "b = np.array([531, -460, 193])\n",
    "b"
   ]
  },
  {
   "cell_type": "code",
   "execution_count": 149,
   "metadata": {
    "scrolled": false
   },
   "outputs": [
    {
     "data": {
      "text/plain": [
       "array([ 6., -5., -4.])"
      ]
     },
     "execution_count": 149,
     "metadata": {},
     "output_type": "execute_result"
    }
   ],
   "source": [
    "np.linalg.solve(A, b)"
   ]
  }
 ],
 "metadata": {
  "kernelspec": {
   "display_name": "Python 3",
   "language": "python",
   "name": "python3"
  },
  "language_info": {
   "codemirror_mode": {
    "name": "ipython",
    "version": 3
   },
   "file_extension": ".py",
   "mimetype": "text/x-python",
   "name": "python",
   "nbconvert_exporter": "python",
   "pygments_lexer": "ipython3",
   "version": "3.7.4"
  }
 },
 "nbformat": 4,
 "nbformat_minor": 2
}
